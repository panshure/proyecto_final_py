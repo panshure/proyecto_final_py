{
 "cells": [
  {
   "cell_type": "markdown",
   "metadata": {
    "id": "oifLIy0lGFIy"
   },
   "source": [
    "# Proyecto Final\n",
    "\n",
    "Hora de entrega: 16 de ene de 2024, hasta 23:59\n",
    "\n",
    "Nombres y apellidos: Fabricio Alexander Flores Quispe\n",
    "Código PUCP:20202566\n",
    "\n",
    "Entregar la tarea en este notebook, no usar una adicional a esta. \n",
    "\n",
    "\n"
   ]
  },
  {
   "cell_type": "code",
   "execution_count": 60,
   "metadata": {
    "scrolled": true
   },
   "outputs": [
    {
     "name": "stdout",
     "output_type": "stream",
     "text": [
      "Requirement already satisfied: pandas in c:\\users\\fabri\\anaconda3\\lib\\site-packages (2.0.3)\n",
      "Requirement already satisfied: openpyxl in c:\\users\\fabri\\anaconda3\\lib\\site-packages (3.0.10)\n",
      "Requirement already satisfied: python-dateutil>=2.8.2 in c:\\users\\fabri\\anaconda3\\lib\\site-packages (from pandas) (2.8.2)\n",
      "Requirement already satisfied: pytz>=2020.1 in c:\\users\\fabri\\anaconda3\\lib\\site-packages (from pandas) (2023.3.post1)\n",
      "Requirement already satisfied: tzdata>=2022.1 in c:\\users\\fabri\\anaconda3\\lib\\site-packages (from pandas) (2023.3)\n",
      "Requirement already satisfied: numpy>=1.21.0 in c:\\users\\fabri\\anaconda3\\lib\\site-packages (from pandas) (1.24.3)\n",
      "Requirement already satisfied: et_xmlfile in c:\\users\\fabri\\anaconda3\\lib\\site-packages (from openpyxl) (1.1.0)\n",
      "Requirement already satisfied: six>=1.5 in c:\\users\\fabri\\anaconda3\\lib\\site-packages (from python-dateutil>=2.8.2->pandas) (1.16.0)\n"
     ]
    }
   ],
   "source": [
    "!pip install pandas openpyxl"
   ]
  },
  {
   "cell_type": "code",
   "execution_count": 56,
   "metadata": {
    "colab": {
     "base_uri": "https://localhost:8080/",
     "height": 107,
     "resources": {
      "http://localhost:8080/nbextensions/google.colab/files.js": {
       "data": "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",
       "headers": [
        [
         "content-type",
         "application/javascript"
        ]
       ],
       "ok": true,
       "status": 200,
       "status_text": ""
      }
     }
    },
    "id": "NRCgHgylGFI4",
    "outputId": "e01336e4-d6fe-4733-c0ea-e3b038e811d2"
   },
   "outputs": [],
   "source": [
    "import pandas as pd\n"
   ]
  },
  {
   "cell_type": "code",
   "execution_count": 57,
   "metadata": {},
   "outputs": [],
   "source": [
    "archivo_csv = r\"C:\\Users\\Fabri\\Downloads\\datatrabajo.csv\""
   ]
  },
  {
   "cell_type": "code",
   "execution_count": 58,
   "metadata": {},
   "outputs": [],
   "source": [
    "df = pd.read_csv(archivo_csv,encoding = \"latin-1\")\n"
   ]
  },
  {
   "cell_type": "code",
   "execution_count": 59,
   "metadata": {},
   "outputs": [
    {
     "name": "stdout",
     "output_type": "stream",
     "text": [
      "           Country Name                                       Country Code  \\\n",
      "0           Afghanistan                                                AFG   \n",
      "1           Afghanistan                                                AFG   \n",
      "2           Afghanistan                                                AFG   \n",
      "3           Afghanistan                                                AFG   \n",
      "4           Afghanistan                                                AFG   \n",
      "...                 ...                                                ...   \n",
      "1603  EG.ELC.ACCS.RU.ZS                                          CC BY-4.0   \n",
      "1604     EN.ATM.CO2E.PC  Attribution-NonCommercial 4.0 International (C...   \n",
      "1605  NY.GDP.MKTP.KD.ZG                                          CC BY-4.0   \n",
      "1606     SH.MED.BEDS.ZS                                          CC BY-4.0   \n",
      "1607  SL.TLF.TOTL.FE.ZS                                          CC BY-4.0   \n",
      "\n",
      "                                            Series Name  \\\n",
      "0               Access to electricity (% of population)   \n",
      "1     Access to electricity, rural (% of rural popul...   \n",
      "2                CO2 emissions (metric tons per capita)   \n",
      "3                                 GDP growth (annual %)   \n",
      "4                      Hospital beds (per 1,000 people)   \n",
      "...                                                 ...   \n",
      "1603  Access to electricity, rural (% of rural popul...   \n",
      "1604             CO2 emissions (metric tons per capita)   \n",
      "1605                              GDP growth (annual %)   \n",
      "1606                   Hospital beds (per 1,000 people)   \n",
      "1607       Labor force, female (% of total labor force)   \n",
      "\n",
      "                                            Series Code  \\\n",
      "0                                        EG.ELC.ACCS.ZS   \n",
      "1                                     EG.ELC.ACCS.RU.ZS   \n",
      "2                                        EN.ATM.CO2E.PC   \n",
      "3                                     NY.GDP.MKTP.KD.ZG   \n",
      "4                                        SH.MED.BEDS.ZS   \n",
      "...                                                 ...   \n",
      "1603  Access to electricity, rural is the percentage...   \n",
      "1604  Carbon dioxide emissions are those stemming fr...   \n",
      "1605  Annual percentage growth rate of GDP at market...   \n",
      "1606  Hospital beds include inpatient beds available...   \n",
      "1607  Female labor force as a percentage of the tota...   \n",
      "\n",
      "                                          1960 [YR1960]  \\\n",
      "0                                                    ..   \n",
      "1                                                    ..   \n",
      "2                                                    ..   \n",
      "3                                                    ..   \n",
      "4                                     0.170626997947693   \n",
      "...                                                 ...   \n",
      "1603  IEA, IRENA, UNSD, World Bank, WHO. 2023. Track...   \n",
      "1604  Emissions data are sourced from Climate Watch ...   \n",
      "1605  World Bank national accounts data, and OECD Na...   \n",
      "1606  Data are from the World Health Organization, s...   \n",
      "1607  World Bank, World Development Indicators datab...   \n",
      "\n",
      "                                          1961 [YR1961] 1962 [YR1962]  \\\n",
      "0                                                    ..            ..   \n",
      "1                                                    ..            ..   \n",
      "2                                                    ..            ..   \n",
      "3                                                    ..            ..   \n",
      "4                                                    ..            ..   \n",
      "...                                                 ...           ...   \n",
      "1603               Environment: Energy production & use        Annual   \n",
      "1604                             Environment: Emissions        Annual   \n",
      "1605  Economic Policy & Debt: National accounts: Gro...        Annual   \n",
      "1606                             Health: Health systems        Annual   \n",
      "1607   Social Protection & Labor: Labor force structure        Annual   \n",
      "\n",
      "         1963 [YR1963]                                      1964 [YR1964]  \\\n",
      "0                   ..                                                 ..   \n",
      "1                   ..                                                 ..   \n",
      "2                   ..                                                 ..   \n",
      "3                   ..                                                 ..   \n",
      "4                   ..                                                 ..   \n",
      "...                ...                                                ...   \n",
      "1603  Weighted average  The World Banks Global Electrification Databa...   \n",
      "1604  Weighted average  Carbon dioxide emissions, largely by-products ...   \n",
      "1605  Weighted average  Gross domestic product (GDP) represents the su...   \n",
      "1606  Weighted average  Health systems - the combined arrangements of ...   \n",
      "1607  Weighted average  The standard definition of unemployed persons ...   \n",
      "\n",
      "                                          1965 [YR1965]  ...  \\\n",
      "0                                                    ..  ...   \n",
      "1                                                    ..  ...   \n",
      "2                                                    ..  ...   \n",
      "3                                                    ..  ...   \n",
      "4                                                    ..  ...   \n",
      "...                                                 ...  ...   \n",
      "1603                                                NaN  ...   \n",
      "1604  Carbon dioxide (CO2) is naturally occurring ga...  ...   \n",
      "1605  An economy's growth is measured by the change ...  ...   \n",
      "1606                                                NaN  ...   \n",
      "1607   including nationally reported observations an...  ...   \n",
      "\n",
      "         2013 [YR2013]      2014 [YR2014]      2015 [YR2015]  \\\n",
      "0     68.0408782958984               89.5               71.5   \n",
      "1     60.2391977225107   86.5005116269173   64.5733543829493   \n",
      "2     0.29808781267706  0.283692395910162  0.297971774718822   \n",
      "3     5.60074465808174   2.72454336394887   1.45131466009762   \n",
      "4                 0.53                0.5                0.5   \n",
      "...                ...                ...                ...   \n",
      "1603               NaN                NaN                NaN   \n",
      "1604               NaN                NaN                NaN   \n",
      "1605               NaN                NaN                NaN   \n",
      "1606               NaN                NaN                NaN   \n",
      "1607               NaN                NaN                NaN   \n",
      "\n",
      "          2016 [YR2016]      2017 [YR2017]      2018 [YR2018]  \\\n",
      "0                  97.7               97.7   93.4308776855469   \n",
      "1      97.0993598284929   97.0919732482142   91.6060600230095   \n",
      "2     0.268358772656602  0.281195815732375  0.299082634225993   \n",
      "3      2.26031420130457    2.6470032019574   1.18922812838036   \n",
      "4                   0.5               0.39                 ..   \n",
      "...                 ...                ...                ...   \n",
      "1603                NaN                NaN                NaN   \n",
      "1604                NaN                NaN                NaN   \n",
      "1605                NaN                NaN                NaN   \n",
      "1606                NaN                NaN                NaN   \n",
      "1607                NaN                NaN                NaN   \n",
      "\n",
      "          2019 [YR2019]      2020 [YR2020]      2021 [YR2021] 2022 [YR2022]  \n",
      "0                  97.7               97.7               97.7            ..  \n",
      "1      97.0756269501314   97.0667125932952   97.0572022178384            ..  \n",
      "2     0.297563650500103  0.223478872007068                 ..            ..  \n",
      "3      3.91160341942292   -2.3511006734461  -20.7388393676343            ..  \n",
      "4                    ..                 ..                 ..            ..  \n",
      "...                 ...                ...                ...           ...  \n",
      "1603                NaN                NaN                NaN           NaN  \n",
      "1604                NaN                NaN                NaN           NaN  \n",
      "1605                NaN                NaN                NaN           NaN  \n",
      "1606                NaN                NaN                NaN           NaN  \n",
      "1607                NaN                NaN                NaN           NaN  \n",
      "\n",
      "[1608 rows x 67 columns]\n"
     ]
    }
   ],
   "source": [
    "print(df)"
   ]
  },
  {
   "cell_type": "code",
   "execution_count": 60,
   "metadata": {
    "colab": {
     "base_uri": "https://localhost:8080/"
    },
    "id": "9lsnOaPLGFI5",
    "outputId": "230ea716-a2a6-407a-d6eb-88047fa69e8b"
   },
   "outputs": [],
   "source": [
    "df = df.dropna()\n",
    "\n"
   ]
  },
  {
   "cell_type": "code",
   "execution_count": 61,
   "metadata": {
    "colab": {
     "base_uri": "https://localhost:8080/"
    },
    "id": "2jYjHCcrUQQg",
    "outputId": "611a3a79-7139-4aa6-ea58-8e7cdd79372a",
    "scrolled": true
   },
   "outputs": [
    {
     "name": "stdout",
     "output_type": "stream",
     "text": [
      "     Country Name Country Code  \\\n",
      "0     Afghanistan          AFG   \n",
      "1     Afghanistan          AFG   \n",
      "2     Afghanistan          AFG   \n",
      "3     Afghanistan          AFG   \n",
      "4     Afghanistan          AFG   \n",
      "...           ...          ...   \n",
      "1591        World          WLD   \n",
      "1592        World          WLD   \n",
      "1593        World          WLD   \n",
      "1594        World          WLD   \n",
      "1595        World          WLD   \n",
      "\n",
      "                                            Series Name        Series Code  \\\n",
      "0               Access to electricity (% of population)     EG.ELC.ACCS.ZS   \n",
      "1     Access to electricity, rural (% of rural popul...  EG.ELC.ACCS.RU.ZS   \n",
      "2                CO2 emissions (metric tons per capita)     EN.ATM.CO2E.PC   \n",
      "3                                 GDP growth (annual %)  NY.GDP.MKTP.KD.ZG   \n",
      "4                      Hospital beds (per 1,000 people)     SH.MED.BEDS.ZS   \n",
      "...                                                 ...                ...   \n",
      "1591  Access to electricity, rural (% of rural popul...  EG.ELC.ACCS.RU.ZS   \n",
      "1592             CO2 emissions (metric tons per capita)     EN.ATM.CO2E.PC   \n",
      "1593                              GDP growth (annual %)  NY.GDP.MKTP.KD.ZG   \n",
      "1594                   Hospital beds (per 1,000 people)     SH.MED.BEDS.ZS   \n",
      "1595       Labor force, female (% of total labor force)  SL.TLF.TOTL.FE.ZS   \n",
      "\n",
      "          1960 [YR1960]     1961 [YR1961]     1962 [YR1962]     1963 [YR1963]  \\\n",
      "0                    ..                ..                ..                ..   \n",
      "1                    ..                ..                ..                ..   \n",
      "2                    ..                ..                ..                ..   \n",
      "3                    ..                ..                ..                ..   \n",
      "4     0.170626997947693                ..                ..                ..   \n",
      "...                 ...               ...               ...               ...   \n",
      "1591                 ..                ..                ..                ..   \n",
      "1592                 ..                ..                ..                ..   \n",
      "1593                 ..  3.79110193270368  5.31474026735168  5.19026359706716   \n",
      "1594                 ..                ..                ..                ..   \n",
      "1595                 ..                ..                ..                ..   \n",
      "\n",
      "         1964 [YR1964]     1965 [YR1965]  ...     2013 [YR2013]  \\\n",
      "0                   ..                ..  ...  68.0408782958984   \n",
      "1                   ..                ..  ...  60.2391977225107   \n",
      "2                   ..                ..  ...  0.29808781267706   \n",
      "3                   ..                ..  ...  5.60074465808174   \n",
      "4                   ..                ..  ...              0.53   \n",
      "...                ...               ...  ...               ...   \n",
      "1591                ..                ..  ...  76.0481594633304   \n",
      "1592                ..                ..  ...  4.71966577893739   \n",
      "1593  6.56210696599695  5.55510219909046  ...  2.79977345236171   \n",
      "1594                ..                ..  ...  2.81623769370133   \n",
      "1595                ..                ..  ...  39.3576333316906   \n",
      "\n",
      "          2014 [YR2014]      2015 [YR2015]      2016 [YR2016]  \\\n",
      "0                  89.5               71.5               97.7   \n",
      "1      86.5005116269173   64.5733543829493   97.0993598284929   \n",
      "2     0.283692395910162  0.297971774718822  0.268358772656602   \n",
      "3      2.72454336394887   1.45131466009762   2.26031420130457   \n",
      "4                   0.5                0.5                0.5   \n",
      "...                 ...                ...                ...   \n",
      "1591   76.3088389086403    76.779180901383   79.3720277751938   \n",
      "1592   4.68240822500486   4.60168373148077   4.55857923135072   \n",
      "1593   3.06693547400138    3.0697934441805   2.78598573699371   \n",
      "1594   2.76763715889911   2.69356783229575   2.72594201331579   \n",
      "1595   39.3208197901845   39.3081111731429   39.3013630724132   \n",
      "\n",
      "          2017 [YR2017]      2018 [YR2018]      2019 [YR2019]  \\\n",
      "0                  97.7   93.4308776855469               97.7   \n",
      "1      97.0919732482142   91.6060600230095   97.0756269501314   \n",
      "2     0.281195815732375  0.299082634225993  0.297563650500103   \n",
      "3       2.6470032019574   1.18922812838036   3.91160341942292   \n",
      "4                  0.39                 ..                 ..   \n",
      "...                 ...                ...                ...   \n",
      "1591   80.8760402116865   82.1072390504022   82.7461666615205   \n",
      "1592   4.57838089020636   4.64214529563223   4.58257277057688   \n",
      "1593   3.39618265198736   3.27697936626596   2.59037617487785   \n",
      "1594   2.88112023910214                 ..                 ..   \n",
      "1595   39.3064314894774   39.2771862242068   39.5890152825623   \n",
      "\n",
      "          2020 [YR2020]      2021 [YR2021]     2022 [YR2022]  \n",
      "0                  97.7               97.7                ..  \n",
      "1      97.0667125932952   97.0572022178384                ..  \n",
      "2     0.223478872007068                 ..                ..  \n",
      "3      -2.3511006734461  -20.7388393676343                ..  \n",
      "4                    ..                 ..                ..  \n",
      "...                 ...                ...               ...  \n",
      "1591   82.9569682954018   84.4755127053527                ..  \n",
      "1592   4.29226919101032                 ..                ..  \n",
      "1593  -3.06563684528575   6.20216474022999   3.0869282542135  \n",
      "1594                 ..                 ..                ..  \n",
      "1595   39.3509165646661   39.5993772608621  39.4868833021574  \n",
      "\n",
      "[1596 rows x 67 columns]\n"
     ]
    }
   ],
   "source": [
    "print(df)"
   ]
  },
  {
   "cell_type": "code",
   "execution_count": 62,
   "metadata": {},
   "outputs": [],
   "source": [
    "columnas_a_eliminar = list(range(3, 44))"
   ]
  },
  {
   "cell_type": "code",
   "execution_count": 63,
   "metadata": {},
   "outputs": [],
   "source": [
    "df_sin_columnas = df.drop(df.columns[columnas_a_eliminar], axis=1)"
   ]
  },
  {
   "cell_type": "code",
   "execution_count": 64,
   "metadata": {
    "scrolled": true
   },
   "outputs": [
    {
     "name": "stdout",
     "output_type": "stream",
     "text": [
      "     Country Name Country Code  \\\n",
      "0     Afghanistan          AFG   \n",
      "1     Afghanistan          AFG   \n",
      "2     Afghanistan          AFG   \n",
      "3     Afghanistan          AFG   \n",
      "4     Afghanistan          AFG   \n",
      "...           ...          ...   \n",
      "1591        World          WLD   \n",
      "1592        World          WLD   \n",
      "1593        World          WLD   \n",
      "1594        World          WLD   \n",
      "1595        World          WLD   \n",
      "\n",
      "                                            Series Name       2000 [YR2000]  \\\n",
      "0               Access to electricity (% of population)    4.44689083099365   \n",
      "1     Access to electricity, rural (% of rural popul...                  ..   \n",
      "2                CO2 emissions (metric tons per capita)  0.0551666066110075   \n",
      "3                                 GDP growth (annual %)                  ..   \n",
      "4                      Hospital beds (per 1,000 people)                 0.3   \n",
      "...                                                 ...                 ...   \n",
      "1591  Access to electricity, rural (% of rural popul...    66.5048968087449   \n",
      "1592             CO2 emissions (metric tons per capita)    3.95166042502221   \n",
      "1593                              GDP growth (annual %)      4.529979186056   \n",
      "1594                   Hospital beds (per 1,000 people)    2.90010380866058   \n",
      "1595       Labor force, female (% of total labor force)    39.6642594529303   \n",
      "\n",
      "           2001 [YR2001]       2002 [YR2002]       2003 [YR2003]  \\\n",
      "0       9.29452705383301    14.1336164474487    18.9711647033691   \n",
      "1                     ..                  ..    2.13041009323948   \n",
      "2     0.0552927191691124  0.0668101379335566  0.0730049683971786   \n",
      "3                     ..                  ..     8.8322778126357   \n",
      "4                   0.39                0.39                0.39   \n",
      "...                  ...                 ...                 ...   \n",
      "1591    68.3303206132022    68.5563951198504    67.4709973812721   \n",
      "1592     3.9580886917346    3.96147027291307    4.09008161427668   \n",
      "1593    2.02544109976361    2.29916599326398    3.10548895850644   \n",
      "1594    2.76885247837846    2.66951848931711    2.89121054836541   \n",
      "1595     39.666498914316    39.6796791561575    39.7197795986712   \n",
      "\n",
      "           2004 [YR2004]       2005 [YR2005]       2006 [YR2006]  ...  \\\n",
      "0       23.8141822814941    28.6696720123291    33.5444183349609  ...   \n",
      "1       7.84279549013813    15.3556428763825    19.2648207623049  ...   \n",
      "2     0.0548667587320485  0.0803611343666108  0.0897569086344725  ...   \n",
      "3       1.41411798058977    11.2297148236429    5.35740325126363  ...   \n",
      "4                   0.39                0.42                0.42  ...   \n",
      "...                  ...                 ...                 ...  ...   \n",
      "1591    67.0836084152565    68.4197475414533    69.0640365507822  ...   \n",
      "1592    4.22379423380142    4.32979002705054    4.41713459443952  ...   \n",
      "1593    4.47137416674302    4.00653569165341    4.44008395325844  ...   \n",
      "1594                  ..    2.63148988647061    2.67138902979241  ...   \n",
      "1595     39.727349107219    39.7964043346677    39.7427817467307  ...   \n",
      "\n",
      "         2013 [YR2013]      2014 [YR2014]      2015 [YR2015]  \\\n",
      "0     68.0408782958984               89.5               71.5   \n",
      "1     60.2391977225107   86.5005116269173   64.5733543829493   \n",
      "2     0.29808781267706  0.283692395910162  0.297971774718822   \n",
      "3     5.60074465808174   2.72454336394887   1.45131466009762   \n",
      "4                 0.53                0.5                0.5   \n",
      "...                ...                ...                ...   \n",
      "1591  76.0481594633304   76.3088389086403    76.779180901383   \n",
      "1592  4.71966577893739   4.68240822500486   4.60168373148077   \n",
      "1593  2.79977345236171   3.06693547400138    3.0697934441805   \n",
      "1594  2.81623769370133   2.76763715889911   2.69356783229575   \n",
      "1595  39.3576333316906   39.3208197901845   39.3081111731429   \n",
      "\n",
      "          2016 [YR2016]      2017 [YR2017]      2018 [YR2018]  \\\n",
      "0                  97.7               97.7   93.4308776855469   \n",
      "1      97.0993598284929   97.0919732482142   91.6060600230095   \n",
      "2     0.268358772656602  0.281195815732375  0.299082634225993   \n",
      "3      2.26031420130457    2.6470032019574   1.18922812838036   \n",
      "4                   0.5               0.39                 ..   \n",
      "...                 ...                ...                ...   \n",
      "1591   79.3720277751938   80.8760402116865   82.1072390504022   \n",
      "1592   4.55857923135072   4.57838089020636   4.64214529563223   \n",
      "1593   2.78598573699371   3.39618265198736   3.27697936626596   \n",
      "1594   2.72594201331579   2.88112023910214                 ..   \n",
      "1595   39.3013630724132   39.3064314894774   39.2771862242068   \n",
      "\n",
      "          2019 [YR2019]      2020 [YR2020]      2021 [YR2021]  \\\n",
      "0                  97.7               97.7               97.7   \n",
      "1      97.0756269501314   97.0667125932952   97.0572022178384   \n",
      "2     0.297563650500103  0.223478872007068                 ..   \n",
      "3      3.91160341942292   -2.3511006734461  -20.7388393676343   \n",
      "4                    ..                 ..                 ..   \n",
      "...                 ...                ...                ...   \n",
      "1591   82.7461666615205   82.9569682954018   84.4755127053527   \n",
      "1592   4.58257277057688   4.29226919101032                 ..   \n",
      "1593   2.59037617487785  -3.06563684528575   6.20216474022999   \n",
      "1594                 ..                 ..                 ..   \n",
      "1595   39.5890152825623   39.3509165646661   39.5993772608621   \n",
      "\n",
      "         2022 [YR2022]  \n",
      "0                   ..  \n",
      "1                   ..  \n",
      "2                   ..  \n",
      "3                   ..  \n",
      "4                   ..  \n",
      "...                ...  \n",
      "1591                ..  \n",
      "1592                ..  \n",
      "1593   3.0869282542135  \n",
      "1594                ..  \n",
      "1595  39.4868833021574  \n",
      "\n",
      "[1596 rows x 26 columns]\n"
     ]
    }
   ],
   "source": [
    "print(df_sin_columnas)"
   ]
  },
  {
   "cell_type": "code",
   "execution_count": 110,
   "metadata": {},
   "outputs": [
    {
     "name": "stdout",
     "output_type": "stream",
     "text": [
      "    Country Code                                        Series Name  \\\n",
      "43           ARG  Access to electricity, rural (% of rural popul...   \n",
      "139          BOL  Access to electricity, rural (% of rural popul...   \n",
      "157          BRA  Access to electricity, rural (% of rural popul...   \n",
      "\n",
      "           Series Code     2000 [YR2000]     2001 [YR2001]     2002 [YR2002]  \\\n",
      "43   EG.ELC.ACCS.RU.ZS  91.7907280675116  88.6387107010035  92.5830974497896   \n",
      "139  EG.ELC.ACCS.RU.ZS  28.1674284923216  28.0133475022578  22.5278025679909   \n",
      "157  EG.ELC.ACCS.RU.ZS  74.6087507052771   81.875763171679  84.1179541141622   \n",
      "\n",
      "        2003 [YR2003]     2004 [YR2004]     2005 [YR2005]  \n",
      "43   92.9043660661052  93.1807940987941  93.4174966806644  \n",
      "139  34.9556020125163  40.3028939727806  29.5450096623227  \n",
      "157  85.3215354110452  83.4505450590802  84.8305341166813  \n"
     ]
    }
   ],
   "source": [
    "import pandas as pd\n",
    "\n",
    "def seleccion_filas_columnas(df, filas, columnas):\n",
    "    \"\"\"\n",
    "    Selecciona filas y columnas específicas de una base de datos (indicadores de desarrollo global a nivel país).\n",
    "\n",
    "    Inputs:\n",
    "    - df: La base de datos sin limpiar.\n",
    "    - filas: Lista de números de filas seleccionadas.\n",
    "    - columnas: Lista de números de columnas seleccionadas.\n",
    "\n",
    "    Output:\n",
    "    - pd.DataFrame: Base de datos modificada con las filas y columnas seleccionadas.\n",
    "    \"\"\"\n",
    "    nueva_data = df.iloc[filas, columnas]\n",
    "    return nueva_data\n",
    "\n",
    "df_sin_columnas = pd.DataFrame(df)\n",
    "\n",
    "filas_seleccionadas = [43, 139, 157]\n",
    "columnas_seleccionadas = [1, 2, 3,44,45, 46, 47, 48, 49]\n",
    "\n",
    "data_seleccion = seleccion_filas_columnas(df_sin_columnas, filas_seleccionadas, columnas_seleccionadas)\n",
    "print(data_seleccion)\n",
    "\n"
   ]
  },
  {
   "cell_type": "code",
   "execution_count": 111,
   "metadata": {},
   "outputs": [
    {
     "data": {
      "text/html": [
       "<div>\n",
       "<style scoped>\n",
       "    .dataframe tbody tr th:only-of-type {\n",
       "        vertical-align: middle;\n",
       "    }\n",
       "\n",
       "    .dataframe tbody tr th {\n",
       "        vertical-align: top;\n",
       "    }\n",
       "\n",
       "    .dataframe thead th {\n",
       "        text-align: right;\n",
       "    }\n",
       "</style>\n",
       "<table border=\"1\" class=\"dataframe\">\n",
       "  <thead>\n",
       "    <tr style=\"text-align: right;\">\n",
       "      <th></th>\n",
       "      <th>Country Code</th>\n",
       "      <th>Series Name</th>\n",
       "      <th>Series Code</th>\n",
       "      <th>2000 [YR2000]</th>\n",
       "      <th>2001 [YR2001]</th>\n",
       "      <th>2002 [YR2002]</th>\n",
       "      <th>2003 [YR2003]</th>\n",
       "      <th>2004 [YR2004]</th>\n",
       "      <th>2005 [YR2005]</th>\n",
       "    </tr>\n",
       "  </thead>\n",
       "  <tbody>\n",
       "    <tr>\n",
       "      <th>43</th>\n",
       "      <td>ARG</td>\n",
       "      <td>Access to electricity, rural (% of rural popul...</td>\n",
       "      <td>EG.ELC.ACCS.RU.ZS</td>\n",
       "      <td>91.7907280675116</td>\n",
       "      <td>88.6387107010035</td>\n",
       "      <td>92.5830974497896</td>\n",
       "      <td>92.9043660661052</td>\n",
       "      <td>93.1807940987941</td>\n",
       "      <td>93.4174966806644</td>\n",
       "    </tr>\n",
       "    <tr>\n",
       "      <th>139</th>\n",
       "      <td>BOL</td>\n",
       "      <td>Access to electricity, rural (% of rural popul...</td>\n",
       "      <td>EG.ELC.ACCS.RU.ZS</td>\n",
       "      <td>28.1674284923216</td>\n",
       "      <td>28.0133475022578</td>\n",
       "      <td>22.5278025679909</td>\n",
       "      <td>34.9556020125163</td>\n",
       "      <td>40.3028939727806</td>\n",
       "      <td>29.5450096623227</td>\n",
       "    </tr>\n",
       "    <tr>\n",
       "      <th>157</th>\n",
       "      <td>BRA</td>\n",
       "      <td>Access to electricity, rural (% of rural popul...</td>\n",
       "      <td>EG.ELC.ACCS.RU.ZS</td>\n",
       "      <td>74.6087507052771</td>\n",
       "      <td>81.875763171679</td>\n",
       "      <td>84.1179541141622</td>\n",
       "      <td>85.3215354110452</td>\n",
       "      <td>83.4505450590802</td>\n",
       "      <td>84.8305341166813</td>\n",
       "    </tr>\n",
       "  </tbody>\n",
       "</table>\n",
       "</div>"
      ],
      "text/plain": [
       "    Country Code                                        Series Name  \\\n",
       "43           ARG  Access to electricity, rural (% of rural popul...   \n",
       "139          BOL  Access to electricity, rural (% of rural popul...   \n",
       "157          BRA  Access to electricity, rural (% of rural popul...   \n",
       "\n",
       "           Series Code     2000 [YR2000]     2001 [YR2001]     2002 [YR2002]  \\\n",
       "43   EG.ELC.ACCS.RU.ZS  91.7907280675116  88.6387107010035  92.5830974497896   \n",
       "139  EG.ELC.ACCS.RU.ZS  28.1674284923216  28.0133475022578  22.5278025679909   \n",
       "157  EG.ELC.ACCS.RU.ZS  74.6087507052771   81.875763171679  84.1179541141622   \n",
       "\n",
       "        2003 [YR2003]     2004 [YR2004]     2005 [YR2005]  \n",
       "43   92.9043660661052  93.1807940987941  93.4174966806644  \n",
       "139  34.9556020125163  40.3028939727806  29.5450096623227  \n",
       "157  85.3215354110452  83.4505450590802  84.8305341166813  "
      ]
     },
     "execution_count": 111,
     "metadata": {},
     "output_type": "execute_result"
    }
   ],
   "source": [
    "data_seleccion"
   ]
  },
  {
   "cell_type": "code",
   "execution_count": 78,
   "metadata": {},
   "outputs": [
    {
     "name": "stdout",
     "output_type": "stream",
     "text": [
      "Requirement already satisfied: matplotlib in c:\\users\\fabri\\anaconda3\\lib\\site-packages (3.7.2)\n",
      "Requirement already satisfied: seaborn in c:\\users\\fabri\\anaconda3\\lib\\site-packages (0.12.2)\n",
      "Requirement already satisfied: contourpy>=1.0.1 in c:\\users\\fabri\\anaconda3\\lib\\site-packages (from matplotlib) (1.0.5)\n",
      "Requirement already satisfied: cycler>=0.10 in c:\\users\\fabri\\anaconda3\\lib\\site-packages (from matplotlib) (0.11.0)\n",
      "Requirement already satisfied: fonttools>=4.22.0 in c:\\users\\fabri\\anaconda3\\lib\\site-packages (from matplotlib) (4.25.0)\n",
      "Requirement already satisfied: kiwisolver>=1.0.1 in c:\\users\\fabri\\anaconda3\\lib\\site-packages (from matplotlib) (1.4.4)\n",
      "Requirement already satisfied: numpy>=1.20 in c:\\users\\fabri\\anaconda3\\lib\\site-packages (from matplotlib) (1.24.3)\n",
      "Requirement already satisfied: packaging>=20.0 in c:\\users\\fabri\\anaconda3\\lib\\site-packages (from matplotlib) (23.1)\n",
      "Requirement already satisfied: pillow>=6.2.0 in c:\\users\\fabri\\anaconda3\\lib\\site-packages (from matplotlib) (9.4.0)\n",
      "Requirement already satisfied: pyparsing<3.1,>=2.3.1 in c:\\users\\fabri\\anaconda3\\lib\\site-packages (from matplotlib) (3.0.9)\n",
      "Requirement already satisfied: python-dateutil>=2.7 in c:\\users\\fabri\\anaconda3\\lib\\site-packages (from matplotlib) (2.8.2)\n",
      "Requirement already satisfied: pandas>=0.25 in c:\\users\\fabri\\anaconda3\\lib\\site-packages (from seaborn) (2.0.3)\n",
      "Requirement already satisfied: pytz>=2020.1 in c:\\users\\fabri\\anaconda3\\lib\\site-packages (from pandas>=0.25->seaborn) (2023.3.post1)\n",
      "Requirement already satisfied: tzdata>=2022.1 in c:\\users\\fabri\\anaconda3\\lib\\site-packages (from pandas>=0.25->seaborn) (2023.3)\n",
      "Requirement already satisfied: six>=1.5 in c:\\users\\fabri\\anaconda3\\lib\\site-packages (from python-dateutil>=2.7->matplotlib) (1.16.0)\n",
      "Note: you may need to restart the kernel to use updated packages.\n"
     ]
    }
   ],
   "source": [
    "pip install matplotlib seaborn"
   ]
  },
  {
   "cell_type": "code",
   "execution_count": 113,
   "metadata": {
    "scrolled": true
   },
   "outputs": [
    {
     "data": {
      "image/png": "[encoded data removed]",
      "text/plain": [
       "<Figure size 640x480 with 1 Axes>"
      ]
     },
     "metadata": {},
     "output_type": "display_data"
    }
   ],
   "source": [
    "import matplotlib.pyplot as plt\n",
    "\n",
    "paises = ['Argentina', 'Bolivia', 'Brasil']\n",
    "porcentaje_poblacion_rural = [91.79, 28.16, 74.60]\n",
    "\n",
    "plt.pie(porcentaje_poblacion_rural, labels=paises, autopct='%1.1f%%', startangle=90)\n",
    "\n",
    "plt.title('Distribución del acceso a la electricidad rural en el año 2000')\n",
    "\n",
    "plt.show()"
   ]
  },
  {
   "cell_type": "code",
   "execution_count": 114,
   "metadata": {},
   "outputs": [
    {
     "data": {
      "image/png": "[encoded data removed]",
      "text/plain": [
       "<Figure size 640x480 with 1 Axes>"
      ]
     },
     "metadata": {},
     "output_type": "display_data"
    }
   ],
   "source": [
    "import matplotlib.pyplot as plt\n",
    "\n",
    "paises = ['Argentina', 'Bolivia', 'Brasil']\n",
    "porcentaje_poblacion_rural = [93.4174966806644, 29.5450096623227, 84.8305341166813]\n",
    "\n",
    "plt.bar(paises, porcentaje_poblacion_rural, color='blue')\n",
    "\n",
    "plt.xlabel('País')\n",
    "plt.ylabel('Porcentaje de la población rural')\n",
    "plt.title('Acceso a la electricidad, rural (% de la población rural) en el año 2005')\n",
    "\n",
    "plt.show()"
   ]
  }
 ],
 "metadata": {
  "colab": {
   "collapsed_sections": [],
   "name": "T3_2022_AV.ipynb",
   "provenance": []
  },
  "kernelspec": {
   "display_name": "Python 3 (ipykernel)",
   "language": "python",
   "name": "python3"
  },
  "language_info": {
   "codemirror_mode": {
    "name": "ipython",
    "version": 3
   },
   "file_extension": ".py",
   "mimetype": "text/x-python",
   "name": "python",
   "nbconvert_exporter": "python",
   "pygments_lexer": "ipython3",
   "version": "3.11.5"
  }
 },
 "nbformat": 4,
 "nbformat_minor": 1
}
